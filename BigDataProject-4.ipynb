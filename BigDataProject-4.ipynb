{
 "cells": [
  {
   "cell_type": "code",
   "execution_count": 41,
   "id": "b7871cc1-e47c-4f8b-9dd8-c8f75cd0defa",
   "metadata": {},
   "outputs": [
    {
     "name": "stdout",
     "output_type": "stream",
     "text": [
      "pymysql is installed and working!\n"
     ]
    }
   ],
   "source": [
    "import pymysql\n",
    "print(\"pymysql is installed and working!\")\n"
   ]
  },
  {
   "cell_type": "code",
   "execution_count": 42,
   "id": "55b82052-1c89-4ef7-82f8-64cd41f6da20",
   "metadata": {},
   "outputs": [
    {
     "name": "stdout",
     "output_type": "stream",
     "text": [
      "database Created Successfully!\n"
     ]
    }
   ],
   "source": [
    "import pymysql\n",
    "\n",
    "# MySQL connection details\n",
    "DATABASE_USER = \"root\"\n",
    "DATABASE_PASSWORD = \"bokang13\"  \n",
    "DATABASE_NAME = \"bigdata_project\"\n",
    "\n",
    "# Connect to MySQL\n",
    "connection = pymysql.connect(\n",
    "    host=\"localhost\",\n",
    "    user=DATABASE_USER,\n",
    "    password=DATABASE_PASSWORD\n",
    ")\n",
    "\n",
    "# Create the database\n",
    "query = \"CREATE DATABASE IF NOT EXISTS bigdata_project;\"\n",
    "cursor = connection.cursor()\n",
    "cursor.execute(query)\n",
    "connection.commit()\n",
    "cursor.close()\n",
    "connection.close()\n",
    "\n",
    "print(\"database Created Successfully!\")\n",
    "\n"
   ]
  },
  {
   "cell_type": "code",
   "execution_count": 43,
   "id": "7489e824-5361-45f2-9e5c-9a9f9c653417",
   "metadata": {},
   "outputs": [
    {
     "name": "stdout",
     "output_type": "stream",
     "text": [
      " Switched to bigdata_project!\n"
     ]
    }
   ],
   "source": [
    "# Reconnect to MySQL\n",
    "connection = pymysql.connect(\n",
    "    host=\"localhost\",\n",
    "    user=DATABASE_USER,\n",
    "    password=DATABASE_PASSWORD,\n",
    "    database=DATABASE_NAME\n",
    ")\n",
    "\n",
    "print(\" Switched to bigdata_project!\")\n"
   ]
  },
  {
   "cell_type": "code",
   "execution_count": 44,
   "id": "19dbbb94-f600-4932-9057-3c2814a5e823",
   "metadata": {},
   "outputs": [
    {
     "name": "stdout",
     "output_type": "stream",
     "text": [
      "book_reviews Table Created Successfully!\n"
     ]
    }
   ],
   "source": [
    "# Create a cursor object\n",
    "cursor = connection.cursor()\n",
    "\n",
    "# Create the book_reviews table\n",
    "query = \"\"\"\n",
    "CREATE TABLE IF NOT EXISTS book_reviews (\n",
    "    book_id INT PRIMARY KEY,\n",
    "    title VARCHAR(255),\n",
    "    user_id VARCHAR(50),\n",
    "    review_score FLOAT,\n",
    "    review_date DATE,\n",
    "    genre VARCHAR(255)  # Adding genre from books_data.csv\n",
    ");\n",
    "\"\"\"\n",
    "cursor.execute(query)\n",
    "\n",
    "connection.commit()\n",
    "cursor.close()\n",
    "\n",
    "print(\"book_reviews Table Created Successfully!\")\n",
    "\n"
   ]
  },
  {
   "cell_type": "code",
   "execution_count": 45,
   "id": "61342796-d865-4a60-91b9-7d22551093c6",
   "metadata": {
    "scrolled": true
   },
   "outputs": [
    {
     "name": "stdout",
     "output_type": "stream",
     "text": [
      "           Id                           Title  Price         User_id  \\\n",
      "0  1882931173  Its Only Art If Its Well Hung!    NaN   AVCGYZL8FQQTD   \n",
      "1  0826414346        Dr. Seuss: American Icon    NaN  A30TK6U7DNS82R   \n",
      "2  0826414346        Dr. Seuss: American Icon    NaN  A3UH4UZ4RSVO82   \n",
      "3  0826414346        Dr. Seuss: American Icon    NaN  A2MVUWT453QH61   \n",
      "4  0826414346        Dr. Seuss: American Icon    NaN  A22X4XUPKF66MR   \n",
      "\n",
      "                          profileName review/helpfulness  review/score  \\\n",
      "0               Jim of Oz \"jim-of-oz\"                7/7           4.0   \n",
      "1                       Kevin Killian              10/10           5.0   \n",
      "2                        John Granger              10/11           5.0   \n",
      "3  Roy E. Perry \"amateur philosopher\"                7/7           4.0   \n",
      "4     D. H. Richards \"ninthwavestore\"                3/3           4.0   \n",
      "\n",
      "   review/time                                   review/summary  \\\n",
      "0    940636800           Nice collection of Julie Strain images   \n",
      "1   1095724800                                Really Enjoyed It   \n",
      "2   1078790400  Essential for every personal and Public Library   \n",
      "3   1090713600  Phlip Nel gives silly Seuss a serious treatment   \n",
      "4   1107993600                           Good academic overview   \n",
      "\n",
      "                                         review/text  \n",
      "0  This is only for Julie Strain fans. It's a col...  \n",
      "1  I don't care much for Dr. Seuss but after read...  \n",
      "2  If people become the books they read and if \"t...  \n",
      "3  Theodore Seuss Geisel (1904-1991), aka &quot;D...  \n",
      "4  Philip Nel - Dr. Seuss: American IconThis is b...  \n",
      "                                               Title  \\\n",
      "0                     Its Only Art If Its Well Hung!   \n",
      "1                           Dr. Seuss: American Icon   \n",
      "2              Wonderful Worship in Smaller Churches   \n",
      "3                      Whispers of the Wicked Saints   \n",
      "4  Nation Dance: Religion, Identity and Cultural ...   \n",
      "\n",
      "                                         description              authors  \\\n",
      "0                                                NaN     ['Julie Strain']   \n",
      "1  Philip Nel takes a fascinating look into the k...       ['Philip Nel']   \n",
      "2  This resource includes twelve principles in un...     ['David R. Ray']   \n",
      "3  Julia Thomas finds her life spinning out of co...  ['Veronica Haddon']   \n",
      "4                                                NaN      ['Edward Long']   \n",
      "\n",
      "                                               image  \\\n",
      "0  http://books.google.com/books/content?id=DykPA...   \n",
      "1  http://books.google.com/books/content?id=IjvHQ...   \n",
      "2  http://books.google.com/books/content?id=2tsDA...   \n",
      "3  http://books.google.com/books/content?id=aRSIg...   \n",
      "4                                                NaN   \n",
      "\n",
      "                                         previewLink  publisher publishedDate  \\\n",
      "0  http://books.google.nl/books?id=DykPAAAACAAJ&d...        NaN          1996   \n",
      "1  http://books.google.nl/books?id=IjvHQsCn_pgC&p...  A&C Black    2005-01-01   \n",
      "2  http://books.google.nl/books?id=2tsDAAAACAAJ&d...        NaN          2000   \n",
      "3  http://books.google.nl/books?id=aRSIgJlq6JwC&d...  iUniverse       2005-02   \n",
      "4  http://books.google.nl/books?id=399SPgAACAAJ&d...        NaN    2003-03-01   \n",
      "\n",
      "                                            infoLink  \\\n",
      "0  http://books.google.nl/books?id=DykPAAAACAAJ&d...   \n",
      "1  http://books.google.nl/books?id=IjvHQsCn_pgC&d...   \n",
      "2  http://books.google.nl/books?id=2tsDAAAACAAJ&d...   \n",
      "3  http://books.google.nl/books?id=aRSIgJlq6JwC&d...   \n",
      "4  http://books.google.nl/books?id=399SPgAACAAJ&d...   \n",
      "\n",
      "                      categories  ratingsCount  \n",
      "0    ['Comics & Graphic Novels']           NaN  \n",
      "1  ['Biography & Autobiography']           NaN  \n",
      "2                   ['Religion']           NaN  \n",
      "3                    ['Fiction']           NaN  \n",
      "4                            NaN           NaN  \n"
     ]
    }
   ],
   "source": [
    "import pandas as pd\n",
    "\n",
    "# Load the CSV files\n",
    "books_reviews = pd.read_csv(\"Books_rating.csv\")  \n",
    "books_details = pd.read_csv(\"books_data.csv\")\n",
    "\n",
    "# Display first 5 rows\n",
    "print(books_reviews.head())\n",
    "print(books_details.head())\n"
   ]
  },
  {
   "cell_type": "code",
   "execution_count": 47,
   "id": "484a232c-1e1a-408b-bc4f-ac8c83a334c7",
   "metadata": {},
   "outputs": [
    {
     "name": "stdout",
     "output_type": "stream",
     "text": [
      "Old table dropped!\n",
      " New table created successfully!\n"
     ]
    }
   ],
   "source": [
    "import pymysql\n",
    "\n",
    "# Connect to MySQL\n",
    "connection = pymysql.connect(\n",
    "    host=\"localhost\",\n",
    "    user=\"root\",\n",
    "    password=\"bokang13\",\n",
    "    database=\"bigdata_project\"\n",
    ")\n",
    "\n",
    "cursor = connection.cursor()\n",
    "\n",
    "# Drop the old table first\n",
    "cursor.execute(\"DROP TABLE IF EXISTS book_reviews;\")\n",
    "print(\"Old table dropped!\")\n",
    "\n",
    "# create the new table\n",
    "query = \"\"\"\n",
    "CREATE TABLE book_reviews (\n",
    "    review_id INT AUTO_INCREMENT PRIMARY KEY,\n",
    "    book_id VARCHAR(50),\n",
    "    title VARCHAR(255),\n",
    "    user_id VARCHAR(50),\n",
    "    review_score FLOAT,\n",
    "    review_date DATE,\n",
    "    genre VARCHAR(255)\n",
    ");\n",
    "\"\"\"\n",
    "\n",
    "cursor.execute(query)\n",
    "connection.commit()\n",
    "cursor.close()\n",
    "connection.close()\n",
    "\n",
    "print(\" New table created successfully!\")\n"
   ]
  },
  {
   "cell_type": "code",
   "execution_count": 48,
   "id": "0d3f2acd-c51f-46ab-8e80-43da53e228b2",
   "metadata": {},
   "outputs": [
    {
     "name": "stdout",
     "output_type": "stream",
     "text": [
      " Data cleaned successfully!\n",
      "      book_id                           Title         User_id  review_score  \\\n",
      "0  1882931173  Its Only Art If Its Well Hung!   AVCGYZL8FQQTD           4.0   \n",
      "1  0826414346        Dr. Seuss: American Icon  A30TK6U7DNS82R           5.0   \n",
      "2  0826414346        Dr. Seuss: American Icon  A3UH4UZ4RSVO82           5.0   \n",
      "3  0826414346        Dr. Seuss: American Icon  A2MVUWT453QH61           4.0   \n",
      "4  0826414346        Dr. Seuss: American Icon  A22X4XUPKF66MR           4.0   \n",
      "\n",
      "  review_date                          genre  \n",
      "0  1999-10-23    ['Comics & Graphic Novels']  \n",
      "1  2004-09-21  ['Biography & Autobiography']  \n",
      "2  2004-03-09  ['Biography & Autobiography']  \n",
      "3  2004-07-25  ['Biography & Autobiography']  \n",
      "4  2005-02-10  ['Biography & Autobiography']  \n"
     ]
    }
   ],
   "source": [
    "import pandas as pd\n",
    "\n",
    "# Loading  columns from Books_rating.csv\n",
    "books_reviews = pd.read_csv(\"Books_rating.csv\", usecols=[\"Id\", \"Title\", \"User_id\", \"review/score\", \"review/time\"])\n",
    "\n",
    "# Convert UNIX timestamp (review/time) to a readable date\n",
    "\n",
    "books_details = pd.read_csv(\"books_data.csv\", usecols=[\"Title\", \"categories\"])\n",
    "\n",
    "# fixed time from unix format to actual date\n",
    "\n",
    "books_reviews[\"review/time\"] = pd.to_datetime(books_reviews[\"review/time\"], unit='s')\n",
    "\n",
    "# Merge books_reviews with books_details on Title\n",
    "books_merged = books_reviews.merge(books_details, on=\"Title\", how=\"left\")\n",
    "\n",
    "books_merged.rename(columns={\n",
    "    \"Id\": \"book_id\",\n",
    "    \"review/score\": \"review_score\",\n",
    "    \"review/time\": \"review_date\",\n",
    "    \"categories\": \"genre\"\n",
    "}, inplace=True)\n",
    "\n",
    "\n",
    "# Filling in  missing genres with Unknown\n",
    "books_merged = books_merged.assign(genre=books_merged[\"genre\"].fillna(\"Unknown\"))\n",
    "\n",
    "print(\" Data cleaned successfully!\")\n",
    "print(books_merged.head()) \n"
   ]
  },
  {
   "cell_type": "code",
   "execution_count": 49,
   "id": "11ed3989-0e8e-421f-97d0-ccded4a6414f",
   "metadata": {},
   "outputs": [
    {
     "name": "stdout",
     "output_type": "stream",
     "text": [
      "Genre column updated successfully!\n"
     ]
    }
   ],
   "source": [
    "import pymysql\n",
    "\n",
    "# Connect to MySQL\n",
    "connection = pymysql.connect(\n",
    "    host=\"localhost\",\n",
    "    user=\"root\",\n",
    "    password=\"bokang13\",\n",
    "    database=\"bigdata_project\"\n",
    ")\n",
    "\n",
    "cursor = connection.cursor()\n",
    "\n",
    "# Modify genre column to allow longer text\n",
    "query = \"\"\"\n",
    "ALTER TABLE book_reviews MODIFY COLUMN genre VARCHAR(500);\n",
    "\"\"\"\n",
    "cursor.execute(query)\n",
    "connection.commit()\n",
    "\n",
    "cursor.close()\n",
    "connection.close()\n",
    "\n",
    "print(\"Genre column updated successfully!\")\n"
   ]
  },
  {
   "cell_type": "code",
   "execution_count": 50,
   "id": "b58c4619-7e55-483c-9bea-1ae07abe42e8",
   "metadata": {},
   "outputs": [
    {
     "name": "stdout",
     "output_type": "stream",
     "text": [
      " Connected to MySQL!\n"
     ]
    }
   ],
   "source": [
    "import pymysql\n",
    "\n",
    "connection = pymysql.connect(\n",
    "    host=\"localhost\",\n",
    "    user=\"root\",\n",
    "    password=\"bokang13\",\n",
    "    database=\"bigdata_project\"\n",
    ")\n",
    "cursor = connection.cursor()\n",
    "print(\" Connected to MySQL!\")\n"
   ]
  },
  {
   "cell_type": "code",
   "execution_count": 51,
   "id": "19dd588f-2838-4e4b-868b-52b16783b549",
   "metadata": {},
   "outputs": [
    {
     "name": "stdout",
     "output_type": "stream",
     "text": [
      "Data cleaned successfully!\n"
     ]
    }
   ],
   "source": [
    "import pandas as pd\n",
    "\n",
    "books_reviews = pd.read_csv(\"Books_rating.csv\", usecols=[\"Id\", \"Title\", \"User_id\", \"review/score\", \"review/time\"])\n",
    "books_details = pd.read_csv(\"books_data.csv\", usecols=[\"Title\", \"categories\"])\n",
    "books_reviews[\"review/time\"] = pd.to_datetime(books_reviews[\"review/time\"], unit='s')\n",
    "\n",
    "books_merged = books_reviews.merge(books_details, on=\"Title\", how=\"left\")\n",
    "\n",
    "books_merged.rename(columns={\n",
    "    \"Id\": \"book_id\",\n",
    "    \"review/score\": \"review_score\",\n",
    "    \"review/time\": \"review_date\",\n",
    "    \"categories\": \"genre\"\n",
    "}, inplace=True)\n",
    "\n",
    "books_merged = books_merged.assign(genre=books_merged[\"genre\"].fillna(\"Unknown\"))\n",
    "print(\"Data cleaned successfully!\")\n"
   ]
  },
  {
   "cell_type": "code",
   "execution_count": 52,
   "id": "0271f7ba-4394-4ee3-9a6b-095318fd76b3",
   "metadata": {},
   "outputs": [
    {
     "name": "stdout",
     "output_type": "stream",
     "text": [
      "Table checked/created successfully!\n"
     ]
    }
   ],
   "source": [
    "query = \"\"\"\n",
    "CREATE TABLE IF NOT EXISTS book_reviews (\n",
    "    book_id VARCHAR(20) PRIMARY KEY,\n",
    "    title VARCHAR(500),\n",
    "    user_id VARCHAR(50),\n",
    "    review_score FLOAT,\n",
    "    review_date DATE,\n",
    "    genre VARCHAR(500)\n",
    ");\n",
    "\"\"\"\n",
    "cursor.execute(query)\n",
    "connection.commit()\n",
    "print(\"Table checked/created successfully!\")\n"
   ]
  },
  {
   "cell_type": "code",
   "execution_count": 53,
   "id": "a2a67765-2429-49c1-b9fb-c3344a0d326a",
   "metadata": {},
   "outputs": [
    {
     "name": "stdout",
     "output_type": "stream",
     "text": [
      "missing values replaced\n"
     ]
    }
   ],
   "source": [
    "# Replace missing values before inserting into MySQL\n",
    "books_merged = books_merged.fillna({\n",
    "    \"book_id\": \"Unknown\",  # Replace missing book IDs\n",
    "    \"Title\": \"Unknown\",  # Replace missing titles\n",
    "    \"User_id\": \"Unknown\",  # Replace missing user IDs\n",
    "    \"review_score\": 0.0,  # Replace missing scores with 0\n",
    "    \"review_date\": \"0000-00-00\",  # Replace missing dates with 0\n",
    "    \"genre\": \"Unknown\"  # Replace missing genres\n",
    "})\n",
    "\n",
    "print(\"missing values replaced\")\n"
   ]
  },
  {
   "cell_type": "code",
   "execution_count": null,
   "id": "a4a6941a-70ab-469b-9a79-b19054b4f4eb",
   "metadata": {},
   "outputs": [],
   "source": [
    "import pymysql\n",
    "\n",
    "# Connect to MySQL\n",
    "connection = pymysql.connect(\n",
    "    host=\"localhost\",\n",
    "    user=\"root\",\n",
    "    password=\"bokang13\",\n",
    "    database=\"bigdata_project\"\n",
    ")\n",
    "\n",
    "cursor = connection.cursor()\n",
    "\n",
    "# Insert data into MySQL table\n",
    "for _, row in books_merged.iterrows():\n",
    "    query = \"\"\"\n",
    "    INSERT IGNORE INTO book_reviews (book_id, title, user_id, review_score, review_date, genre)\n",
    "    VALUES (%s, %s, %s, %s, %s, %s)\n",
    "    \"\"\"\n",
    "    values = (\n",
    "        row[\"book_id\"], \n",
    "        row[\"Title\"], \n",
    "        row[\"User_id\"], \n",
    "        float(row[\"review_score\"]),  \n",
    "        row[\"review_date\"], \n",
    "        row[\"genre\"][:500]  \n",
    "    )\n",
    "    \n",
    "    cursor.execute(query, values)\n",
    "\n",
    "# Commit changes and close connection\n",
    "connection.commit()\n",
    "cursor.close()\n",
    "connection.close()\n",
    "\n",
    "print(\"Data inserted\")\n"
   ]
  },
  {
   "cell_type": "code",
   "execution_count": null,
   "id": "d281942e-fb15-46ae-ba1a-d415286b2d59",
   "metadata": {},
   "outputs": [],
   "source": [
    "import pymysql\n",
    "import pandas as pd\n",
    "\n",
    "# Connect to MySQL\n",
    "connection = pymysql.connect(\n",
    "    host=\"localhost\",\n",
    "    user=\"root\",\n",
    "    password=\"bokang13\",\n",
    "    database=\"bigdata_project\"\n",
    ")\n",
    "\n",
    "\n",
    "query = \"SELECT * FROM book_reviews LIMIT 10;\"\n",
    "df = pd.read_sql(query, con=connection)  \n",
    "\n",
    "display(df)\n",
    "\n",
    "# Close connection after fetching data\n",
    "connection.close()\n"
   ]
  },
  {
   "cell_type": "code",
   "execution_count": null,
   "id": "1a162ab4-15a0-4d18-96fb-37f37500936a",
   "metadata": {},
   "outputs": [],
   "source": [
    "import pymysql\n",
    "\n",
    "# Reconnect to MySQL\n",
    "connection = pymysql.connect(\n",
    "    host=\"localhost\",\n",
    "    user=\"root\",\n",
    "    password=\"bokang13\",  \n",
    "    database=\"bigdata_project\"  \n",
    ")\n",
    "\n",
    "print(\"MySQL connection restarted successfully\")\n"
   ]
  },
  {
   "cell_type": "code",
   "execution_count": null,
   "id": "337dfa2a-bdee-4e89-a4bc-9c6101ad8190",
   "metadata": {},
   "outputs": [],
   "source": [
    "import time  # Import time module\n",
    "\n",
    "# Start timer\n",
    "start_time = time.time()\n",
    "\n",
    "# Count Total Number of Reviews\n",
    "query = \"SELECT COUNT(*) FROM book_reviews;\"\n",
    "df = pd.read_sql(query, con=connection)  \n",
    "display(df)  \n",
    "\n",
    "# Stop timer\n",
    "end_time = time.time()\n",
    "\n",
    "# Execution time\n",
    "print(f\"Execution Time: {end_time - start_time:.4f} seconds\")\n"
   ]
  },
  {
   "cell_type": "code",
   "execution_count": null,
   "id": "a91fc152-a892-450c-8bd2-cbef337aef4d",
   "metadata": {},
   "outputs": [],
   "source": [
    "import time \n",
    "# Earliest and latest book reviews\n",
    "start_time = time.time()\n",
    "\n",
    "\n",
    "query = \"\"\"\n",
    "SELECT \n",
    "    MIN(review_date) AS earliest_review, \n",
    "    MAX(review_date) AS latest_review \n",
    "FROM book_reviews;\n",
    "\"\"\"\n",
    "df = pd.read_sql(query, con=connection)\n",
    "display(df)\n",
    "\n",
    "end_time = time.time()\n",
    "print(f\"Execution Time: {end_time - start_time:.4f} seconds\")"
   ]
  },
  {
   "cell_type": "code",
   "execution_count": null,
   "id": "9b12fd56-744c-49e3-a853-90ad71b24707",
   "metadata": {},
   "outputs": [],
   "source": [
    "import time \n",
    "\n",
    "#Top ten book(based on most reveiewed)\n",
    "start_time = time.time()\n",
    "\n",
    "#Top ten book(based on most reveiewed)\n",
    "query = \"\"\"\n",
    "SELECT title, genre,  COUNT(*) AS review_count \n",
    "FROM book_reviews \n",
    "GROUP BY title, genre \n",
    "ORDER BY review_count DESC \n",
    "LIMIT 10;\n",
    "\"\"\"\n",
    "df = pd.read_sql(query, con=connection)\n",
    "display(df)\n",
    "\n",
    "end_time = time.time()\n",
    "print(f\"Execution Time: {end_time - start_time:.4f} seconds\")\n"
   ]
  },
  {
   "cell_type": "code",
   "execution_count": null,
   "id": "662f4c67-5f92-4a89-b06d-8cffeb399694",
   "metadata": {},
   "outputs": [],
   "source": [
    "import time \n",
    "# Average rating per year\n",
    "\n",
    "start_time = time.time()\n",
    "\n",
    "query = \"\"\"\n",
    "SELECT YEAR(review_date) AS year, AVG(review_score) AS avg_rating\n",
    "FROM book_reviews\n",
    "GROUP BY year\n",
    "ORDER BY year;\n",
    "\"\"\"\n",
    "df = pd.read_sql(query, con=connection)\n",
    "display(df)\n",
    "\n",
    "end_time = time.time()\n",
    "print(f\"Execution Time: {end_time - start_time:.4f} seconds\")\n"
   ]
  },
  {
   "cell_type": "code",
   "execution_count": null,
   "id": "8755468e-2687-4a66-b2bf-04e16b33483c",
   "metadata": {},
   "outputs": [],
   "source": [
    "import time \n",
    "# Highest Rated Books Per Year \n",
    "start_time = time.time()\n",
    "\n",
    "query = \"\"\"\n",
    "SELECT title, YEAR(review_date) AS year, genre, AVG(review_score) AS avg_rating\n",
    "FROM book_reviews\n",
    "GROUP BY title, year, genre\n",
    "ORDER BY avg_rating DESC\n",
    "LIMIT 10;\n",
    "\"\"\"\n",
    "df = pd.read_sql(query, con=connection)\n",
    "display(df)\n",
    "\n",
    "end_time = time.time()\n",
    "print(f\"Execution Time: {end_time - start_time:.4f} seconds\")\n",
    "\n"
   ]
  },
  {
   "cell_type": "code",
   "execution_count": 20,
   "id": "6924a22f-5092-4d88-a7bf-c0785fd453d4",
   "metadata": {},
   "outputs": [
    {
     "name": "stdout",
     "output_type": "stream",
     "text": [
      "Movies Dataset Preview:\n"
     ]
    },
    {
     "data": {
      "text/html": [
       "<div>\n",
       "<style scoped>\n",
       "    .dataframe tbody tr th:only-of-type {\n",
       "        vertical-align: middle;\n",
       "    }\n",
       "\n",
       "    .dataframe tbody tr th {\n",
       "        vertical-align: top;\n",
       "    }\n",
       "\n",
       "    .dataframe thead th {\n",
       "        text-align: right;\n",
       "    }\n",
       "</style>\n",
       "<table border=\"1\" class=\"dataframe\">\n",
       "  <thead>\n",
       "    <tr style=\"text-align: right;\">\n",
       "      <th></th>\n",
       "      <th>id</th>\n",
       "      <th>title</th>\n",
       "      <th>genre</th>\n",
       "    </tr>\n",
       "  </thead>\n",
       "  <tbody>\n",
       "    <tr>\n",
       "      <th>0</th>\n",
       "      <td>space-zombie-bingo</td>\n",
       "      <td>Space Zombie Bingo!</td>\n",
       "      <td>Comedy, Horror, Sci-fi</td>\n",
       "    </tr>\n",
       "    <tr>\n",
       "      <th>1</th>\n",
       "      <td>the_green_grass</td>\n",
       "      <td>The Green Grass</td>\n",
       "      <td>Drama</td>\n",
       "    </tr>\n",
       "    <tr>\n",
       "      <th>2</th>\n",
       "      <td>love_lies</td>\n",
       "      <td>Love, Lies</td>\n",
       "      <td>Drama</td>\n",
       "    </tr>\n",
       "    <tr>\n",
       "      <th>3</th>\n",
       "      <td>the_sore_losers_1997</td>\n",
       "      <td>Sore Losers</td>\n",
       "      <td>Action, Mystery &amp; thriller</td>\n",
       "    </tr>\n",
       "    <tr>\n",
       "      <th>4</th>\n",
       "      <td>dinosaur_island_2002</td>\n",
       "      <td>Dinosaur Island</td>\n",
       "      <td>Fantasy, Adventure, Animation</td>\n",
       "    </tr>\n",
       "  </tbody>\n",
       "</table>\n",
       "</div>"
      ],
      "text/plain": [
       "                     id                title                          genre\n",
       "0    space-zombie-bingo  Space Zombie Bingo!         Comedy, Horror, Sci-fi\n",
       "1       the_green_grass      The Green Grass                          Drama\n",
       "2             love_lies           Love, Lies                          Drama\n",
       "3  the_sore_losers_1997          Sore Losers     Action, Mystery & thriller\n",
       "4  dinosaur_island_2002      Dinosaur Island  Fantasy, Adventure, Animation"
      ]
     },
     "metadata": {},
     "output_type": "display_data"
    },
    {
     "name": "stdout",
     "output_type": "stream",
     "text": [
      "Movie Reviews Dataset Preview:\n"
     ]
    },
    {
     "data": {
      "text/html": [
       "<div>\n",
       "<style scoped>\n",
       "    .dataframe tbody tr th:only-of-type {\n",
       "        vertical-align: middle;\n",
       "    }\n",
       "\n",
       "    .dataframe tbody tr th {\n",
       "        vertical-align: top;\n",
       "    }\n",
       "\n",
       "    .dataframe thead th {\n",
       "        text-align: right;\n",
       "    }\n",
       "</style>\n",
       "<table border=\"1\" class=\"dataframe\">\n",
       "  <thead>\n",
       "    <tr style=\"text-align: right;\">\n",
       "      <th></th>\n",
       "      <th>id</th>\n",
       "      <th>reviewId</th>\n",
       "      <th>creationDate</th>\n",
       "      <th>originalScore</th>\n",
       "    </tr>\n",
       "  </thead>\n",
       "  <tbody>\n",
       "    <tr>\n",
       "      <th>0</th>\n",
       "      <td>beavers</td>\n",
       "      <td>1145982</td>\n",
       "      <td>2003-05-23</td>\n",
       "      <td>3.5/4</td>\n",
       "    </tr>\n",
       "    <tr>\n",
       "      <th>1</th>\n",
       "      <td>blood_mask</td>\n",
       "      <td>1636744</td>\n",
       "      <td>2007-06-02</td>\n",
       "      <td>1/5</td>\n",
       "    </tr>\n",
       "    <tr>\n",
       "      <th>2</th>\n",
       "      <td>city_hunter_shinjuku_private_eyes</td>\n",
       "      <td>2590987</td>\n",
       "      <td>2019-05-28</td>\n",
       "      <td>NaN</td>\n",
       "    </tr>\n",
       "    <tr>\n",
       "      <th>3</th>\n",
       "      <td>city_hunter_shinjuku_private_eyes</td>\n",
       "      <td>2558908</td>\n",
       "      <td>2019-02-14</td>\n",
       "      <td>2.5/5</td>\n",
       "    </tr>\n",
       "    <tr>\n",
       "      <th>4</th>\n",
       "      <td>dangerous_men_2015</td>\n",
       "      <td>2504681</td>\n",
       "      <td>2018-08-29</td>\n",
       "      <td>NaN</td>\n",
       "    </tr>\n",
       "  </tbody>\n",
       "</table>\n",
       "</div>"
      ],
      "text/plain": [
       "                                  id  reviewId creationDate originalScore\n",
       "0                            beavers   1145982   2003-05-23         3.5/4\n",
       "1                         blood_mask   1636744   2007-06-02           1/5\n",
       "2  city_hunter_shinjuku_private_eyes   2590987   2019-05-28           NaN\n",
       "3  city_hunter_shinjuku_private_eyes   2558908   2019-02-14         2.5/5\n",
       "4                 dangerous_men_2015   2504681   2018-08-29           NaN"
      ]
     },
     "metadata": {},
     "output_type": "display_data"
    }
   ],
   "source": [
    "import pandas as pd\n",
    "\n",
    "# Load movies dataset \n",
    "movies = pd.read_csv(\"rotten_tomatoes_movies.csv\", usecols=[\"id\", \"title\", \"genre\"])\n",
    "\n",
    "# Load movie reviews dataset \n",
    "movie_reviews = pd.read_csv(\"rotten_tomatoes_movie_reviews.csv\", usecols=[\"id\", \"reviewId\", \"creationDate\", \"originalScore\"])\n",
    "\n",
    "# Display first few rows\n",
    "print(\"Movies Dataset Preview:\")\n",
    "display(movies.head())\n",
    "\n",
    "print(\"Movie Reviews Dataset Preview:\")\n",
    "display(movie_reviews.head())\n"
   ]
  },
  {
   "cell_type": "code",
   "execution_count": 21,
   "id": "cd1bf116-71c9-4161-bdf2-2f74670ad475",
   "metadata": {},
   "outputs": [
    {
     "name": "stdout",
     "output_type": "stream",
     "text": [
      " Data cleaned successfully\n"
     ]
    },
    {
     "data": {
      "text/html": [
       "<div>\n",
       "<style scoped>\n",
       "    .dataframe tbody tr th:only-of-type {\n",
       "        vertical-align: middle;\n",
       "    }\n",
       "\n",
       "    .dataframe tbody tr th {\n",
       "        vertical-align: top;\n",
       "    }\n",
       "\n",
       "    .dataframe thead th {\n",
       "        text-align: right;\n",
       "    }\n",
       "</style>\n",
       "<table border=\"1\" class=\"dataframe\">\n",
       "  <thead>\n",
       "    <tr style=\"text-align: right;\">\n",
       "      <th></th>\n",
       "      <th>id</th>\n",
       "      <th>reviewId</th>\n",
       "      <th>creationDate</th>\n",
       "      <th>originalScore</th>\n",
       "    </tr>\n",
       "  </thead>\n",
       "  <tbody>\n",
       "    <tr>\n",
       "      <th>0</th>\n",
       "      <td>beavers</td>\n",
       "      <td>1145982</td>\n",
       "      <td>2003-05-23</td>\n",
       "      <td>3.5</td>\n",
       "    </tr>\n",
       "    <tr>\n",
       "      <th>1</th>\n",
       "      <td>blood_mask</td>\n",
       "      <td>1636744</td>\n",
       "      <td>2007-06-02</td>\n",
       "      <td>1.0</td>\n",
       "    </tr>\n",
       "    <tr>\n",
       "      <th>2</th>\n",
       "      <td>city_hunter_shinjuku_private_eyes</td>\n",
       "      <td>2590987</td>\n",
       "      <td>2019-05-28</td>\n",
       "      <td>NaN</td>\n",
       "    </tr>\n",
       "    <tr>\n",
       "      <th>3</th>\n",
       "      <td>city_hunter_shinjuku_private_eyes</td>\n",
       "      <td>2558908</td>\n",
       "      <td>2019-02-14</td>\n",
       "      <td>2.5</td>\n",
       "    </tr>\n",
       "    <tr>\n",
       "      <th>4</th>\n",
       "      <td>dangerous_men_2015</td>\n",
       "      <td>2504681</td>\n",
       "      <td>2018-08-29</td>\n",
       "      <td>NaN</td>\n",
       "    </tr>\n",
       "  </tbody>\n",
       "</table>\n",
       "</div>"
      ],
      "text/plain": [
       "                                  id  reviewId creationDate  originalScore\n",
       "0                            beavers   1145982   2003-05-23            3.5\n",
       "1                         blood_mask   1636744   2007-06-02            1.0\n",
       "2  city_hunter_shinjuku_private_eyes   2590987   2019-05-28            NaN\n",
       "3  city_hunter_shinjuku_private_eyes   2558908   2019-02-14            2.5\n",
       "4                 dangerous_men_2015   2504681   2018-08-29            NaN"
      ]
     },
     "metadata": {},
     "output_type": "display_data"
    }
   ],
   "source": [
    "import pandas as pd\n",
    "\n",
    "# Convert review date\n",
    "movie_reviews[\"creationDate\"] = pd.to_datetime(movie_reviews[\"creationDate\"], errors=\"coerce\")\n",
    "\n",
    "# Extract numeric score safely\n",
    "movie_reviews[\"originalScore\"] = (\n",
    "    movie_reviews[\"originalScore\"]\n",
    "    .astype(str)  # Ensure it's a string\n",
    "    .str.extract(r\"^([\\d]+\\.?\\d*)\")  # Extract only the first valid number\n",
    "    .astype(float)  # Convert to float\n",
    ")\n",
    "\n",
    "print(\" Data cleaned successfully\")\n",
    "display(movie_reviews.head())\n"
   ]
  },
  {
   "cell_type": "code",
   "execution_count": 22,
   "id": "06cb8a40-b97c-42a7-b20a-d7e2fdffacd6",
   "metadata": {},
   "outputs": [
    {
     "name": "stdout",
     "output_type": "stream",
     "text": [
      "Movies dataset merged successfully\n"
     ]
    },
    {
     "name": "stderr",
     "output_type": "stream",
     "text": [
      "/var/folders/86/h4mb42gn6j12gvzvy1rntg2h0000gn/T/ipykernel_24578/1558649745.py:13: FutureWarning: A value is trying to be set on a copy of a DataFrame or Series through chained assignment using an inplace method.\n",
      "The behavior will change in pandas 3.0. This inplace method will never work because the intermediate object on which we are setting values always behaves as a copy.\n",
      "\n",
      "For example, when doing 'df[col].method(value, inplace=True)', try using 'df.method({col: value}, inplace=True)' or df[col] = df[col].method(value) instead, to perform the operation inplace on the original object.\n",
      "\n",
      "\n",
      "  movies_merged[\"genre\"].fillna(\"Unknown\", inplace=True)\n"
     ]
    },
    {
     "data": {
      "text/html": [
       "<div>\n",
       "<style scoped>\n",
       "    .dataframe tbody tr th:only-of-type {\n",
       "        vertical-align: middle;\n",
       "    }\n",
       "\n",
       "    .dataframe tbody tr th {\n",
       "        vertical-align: top;\n",
       "    }\n",
       "\n",
       "    .dataframe thead th {\n",
       "        text-align: right;\n",
       "    }\n",
       "</style>\n",
       "<table border=\"1\" class=\"dataframe\">\n",
       "  <thead>\n",
       "    <tr style=\"text-align: right;\">\n",
       "      <th></th>\n",
       "      <th>movie_id</th>\n",
       "      <th>reviewId</th>\n",
       "      <th>review_date</th>\n",
       "      <th>review_score</th>\n",
       "      <th>movie_title</th>\n",
       "      <th>genre</th>\n",
       "    </tr>\n",
       "  </thead>\n",
       "  <tbody>\n",
       "    <tr>\n",
       "      <th>0</th>\n",
       "      <td>beavers</td>\n",
       "      <td>1145982</td>\n",
       "      <td>2003-05-23</td>\n",
       "      <td>3.5</td>\n",
       "      <td>Beavers</td>\n",
       "      <td>Documentary</td>\n",
       "    </tr>\n",
       "    <tr>\n",
       "      <th>1</th>\n",
       "      <td>blood_mask</td>\n",
       "      <td>1636744</td>\n",
       "      <td>2007-06-02</td>\n",
       "      <td>1.0</td>\n",
       "      <td>Blood Mask</td>\n",
       "      <td>Unknown</td>\n",
       "    </tr>\n",
       "    <tr>\n",
       "      <th>2</th>\n",
       "      <td>city_hunter_shinjuku_private_eyes</td>\n",
       "      <td>2590987</td>\n",
       "      <td>2019-05-28</td>\n",
       "      <td>NaN</td>\n",
       "      <td>City Hunter: Shinjuku Private Eyes</td>\n",
       "      <td>Unknown</td>\n",
       "    </tr>\n",
       "    <tr>\n",
       "      <th>3</th>\n",
       "      <td>city_hunter_shinjuku_private_eyes</td>\n",
       "      <td>2558908</td>\n",
       "      <td>2019-02-14</td>\n",
       "      <td>2.5</td>\n",
       "      <td>City Hunter: Shinjuku Private Eyes</td>\n",
       "      <td>Unknown</td>\n",
       "    </tr>\n",
       "    <tr>\n",
       "      <th>4</th>\n",
       "      <td>dangerous_men_2015</td>\n",
       "      <td>2504681</td>\n",
       "      <td>2018-08-29</td>\n",
       "      <td>NaN</td>\n",
       "      <td>Dangerous Men</td>\n",
       "      <td>Unknown</td>\n",
       "    </tr>\n",
       "  </tbody>\n",
       "</table>\n",
       "</div>"
      ],
      "text/plain": [
       "                            movie_id  reviewId review_date  review_score  \\\n",
       "0                            beavers   1145982  2003-05-23           3.5   \n",
       "1                         blood_mask   1636744  2007-06-02           1.0   \n",
       "2  city_hunter_shinjuku_private_eyes   2590987  2019-05-28           NaN   \n",
       "3  city_hunter_shinjuku_private_eyes   2558908  2019-02-14           2.5   \n",
       "4                 dangerous_men_2015   2504681  2018-08-29           NaN   \n",
       "\n",
       "                          movie_title        genre  \n",
       "0                             Beavers  Documentary  \n",
       "1                          Blood Mask      Unknown  \n",
       "2  City Hunter: Shinjuku Private Eyes      Unknown  \n",
       "3  City Hunter: Shinjuku Private Eyes      Unknown  \n",
       "4                       Dangerous Men      Unknown  "
      ]
     },
     "metadata": {},
     "output_type": "display_data"
    }
   ],
   "source": [
    "# Merge movies and reviews on 'id'\n",
    "movies_merged = movie_reviews.merge(movies, on=\"id\", how=\"left\")\n",
    "\n",
    "# Rename columns \n",
    "movies_merged.rename(columns={\n",
    "    \"id\": \"movie_id\",\n",
    "    \"title\": \"movie_title\",\n",
    "    \"creationDate\": \"review_date\",\n",
    "    \"originalScore\": \"review_score\"\n",
    "}, inplace=True)\n",
    "\n",
    "# Fill missing genres with \"Unknown\"\n",
    "movies_merged[\"genre\"].fillna(\"Unknown\", inplace=True)\n",
    "\n",
    "print(\"Movies dataset merged successfully\")\n",
    "display(movies_merged.head())\n"
   ]
  },
  {
   "cell_type": "code",
   "execution_count": 23,
   "id": "0dc5fabd-1dc4-4510-9f39-2e8618e4420c",
   "metadata": {},
   "outputs": [
    {
     "name": "stdout",
     "output_type": "stream",
     "text": [
      "Cleaned movies dataset saved\n"
     ]
    }
   ],
   "source": [
    "movies_merged.to_csv(\"movies_cleaned.csv\", index=False)\n",
    "print(\"Cleaned movies dataset saved\")\n"
   ]
  },
  {
   "cell_type": "code",
   "execution_count": 24,
   "id": "8bd9af30-cf87-4b82-b901-b65d690e9f0f",
   "metadata": {},
   "outputs": [
    {
     "name": "stdout",
     "output_type": "stream",
     "text": [
      "Movies table created successfully\n"
     ]
    }
   ],
   "source": [
    "import pymysql\n",
    "\n",
    "# Connect to MySQL\n",
    "connection = pymysql.connect(\n",
    "    host=\"localhost\",\n",
    "    user=\"root\",\n",
    "    password=\"bokang13\",\n",
    "    database=\"bigdata_project\"\n",
    ")\n",
    "\n",
    "cursor = connection.cursor()\n",
    "\n",
    "# Drop old table if exists\n",
    "cursor.execute(\"DROP TABLE IF EXISTS movie_reviews;\")\n",
    "\n",
    "# Create new table\n",
    "query = \"\"\"\n",
    "CREATE TABLE movie_reviews (\n",
    "    review_id INT PRIMARY KEY,\n",
    "    movie_id VARCHAR(255),\n",
    "    movie_title VARCHAR(255),\n",
    "    review_date DATE,\n",
    "    review_score FLOAT,\n",
    "    genre VARCHAR(500)\n",
    ");\n",
    "\"\"\"\n",
    "cursor.execute(query)\n",
    "connection.commit()\n",
    "\n",
    "print(\"Movies table created successfully\")\n",
    "\n"
   ]
  },
  {
   "cell_type": "code",
   "execution_count": 25,
   "id": "355d9754-94a0-42ca-a04f-26eafaf7502b",
   "metadata": {},
   "outputs": [
    {
     "name": "stdout",
     "output_type": "stream",
     "text": [
      "Index(['id', 'reviewId', 'creationDate', 'originalScore'], dtype='object')\n"
     ]
    }
   ],
   "source": [
    "print(movie_reviews.columns)\n"
   ]
  },
  {
   "cell_type": "code",
   "execution_count": 26,
   "id": "c33dd7d4-7230-429b-af6f-e947449fd855",
   "metadata": {},
   "outputs": [
    {
     "name": "stdout",
     "output_type": "stream",
     "text": [
      "Data inserted successfully!\n"
     ]
    }
   ],
   "source": [
    "import pymysql\n",
    "import numpy as np\n",
    "\n",
    "# Connect to MySQL\n",
    "connection = pymysql.connect(\n",
    "    host=\"localhost\",\n",
    "    user=\"root\",\n",
    "    password=\"bokang13\",\n",
    "    database=\"bigdata_project\"\n",
    ")\n",
    "\n",
    "cursor = connection.cursor()\n",
    "\n",
    "# Final up unknowns\n",
    "movies_merged = movies_merged.fillna({\n",
    "    \"reviewId\": 0,\n",
    "    \"movie_id\": \"Unknown\",\n",
    "    \"movie_title\": \"Unknown\",\n",
    "    \"review_date\": \"0000-00-00\",\n",
    "    \"review_score\": 0.0,\n",
    "    \"genre\": \"Unknown\"\n",
    "})\n",
    "\n",
    "# Insert into MySQL\n",
    "for _, row in movies_merged.iterrows():\n",
    "    query = \"\"\"\n",
    "    INSERT IGNORE INTO movie_reviews (review_id, movie_id, movie_title, review_date, review_score, genre)\n",
    "    VALUES (%s, %s, %s, %s, %s, %s)\n",
    "    \"\"\"\n",
    "    values = (\n",
    "        row[\"reviewId\"],\n",
    "        row[\"movie_id\"],\n",
    "        row[\"movie_title\"],\n",
    "        row[\"review_date\"],\n",
    "        row[\"review_score\"],\n",
    "        row[\"genre\"][:500]\n",
    "    )\n",
    "    cursor.execute(query, values)\n",
    "\n",
    "# Commit & close\n",
    "connection.commit()\n",
    "cursor.close()\n",
    "connection.close()\n",
    "\n",
    "print(\"Data inserted successfully!\")\n"
   ]
  },
  {
   "cell_type": "code",
   "execution_count": 27,
   "id": "5579b37f-b55a-4ef0-9064-9ec52678d3bf",
   "metadata": {},
   "outputs": [
    {
     "name": "stdout",
     "output_type": "stream",
     "text": [
      "MySQL connection re-established!\n"
     ]
    }
   ],
   "source": [
    "import pymysql\n",
    "\n",
    "# Reconnect to MySQL\n",
    "connection = pymysql.connect(\n",
    "    host=\"localhost\",\n",
    "    user=\"root\",\n",
    "    password=\"bokang13\",\n",
    "    database=\"bigdata_project\"\n",
    ")\n",
    "\n",
    "cursor = connection.cursor()\n",
    "print(\"MySQL connection re-established!\")\n"
   ]
  },
  {
   "cell_type": "code",
   "execution_count": 28,
   "id": "669de3b8-cf66-43cd-993c-31a3976b8f61",
   "metadata": {},
   "outputs": [
    {
     "name": "stderr",
     "output_type": "stream",
     "text": [
      "/var/folders/86/h4mb42gn6j12gvzvy1rntg2h0000gn/T/ipykernel_24578/2891614191.py:8: UserWarning: pandas only supports SQLAlchemy connectable (engine/connection) or database string URI or sqlite3 DBAPI2 connection. Other DBAPI2 objects are not tested. Please consider using SQLAlchemy.\n",
      "  df = pd.read_sql(query, con=connection)\n"
     ]
    },
    {
     "data": {
      "text/html": [
       "<div>\n",
       "<style scoped>\n",
       "    .dataframe tbody tr th:only-of-type {\n",
       "        vertical-align: middle;\n",
       "    }\n",
       "\n",
       "    .dataframe tbody tr th {\n",
       "        vertical-align: top;\n",
       "    }\n",
       "\n",
       "    .dataframe thead th {\n",
       "        text-align: right;\n",
       "    }\n",
       "</style>\n",
       "<table border=\"1\" class=\"dataframe\">\n",
       "  <thead>\n",
       "    <tr style=\"text-align: right;\">\n",
       "      <th></th>\n",
       "      <th>COUNT(*)</th>\n",
       "    </tr>\n",
       "  </thead>\n",
       "  <tbody>\n",
       "    <tr>\n",
       "      <th>0</th>\n",
       "      <td>1432569</td>\n",
       "    </tr>\n",
       "  </tbody>\n",
       "</table>\n",
       "</div>"
      ],
      "text/plain": [
       "   COUNT(*)\n",
       "0   1432569"
      ]
     },
     "metadata": {},
     "output_type": "display_data"
    },
    {
     "name": "stdout",
     "output_type": "stream",
     "text": [
      "Execution Time: 0.30 seconds\n"
     ]
    }
   ],
   "source": [
    "import time\n",
    "\n",
    "#total number of movies\n",
    "\n",
    "query = \"SELECT COUNT(*) FROM movie_reviews;\"\n",
    "\n",
    "start_time = time.time()  # Start timer\n",
    "df = pd.read_sql(query, con=connection)\n",
    "end_time = time.time()  # End timer\n",
    "\n",
    "execution_time = end_time - start_time  # Calculate time taken\n",
    "display(df)\n",
    "print(f\"Execution Time: {execution_time:.2f} seconds\")\n"
   ]
  },
  {
   "cell_type": "code",
   "execution_count": null,
   "id": "d082c121-a781-4077-9915-ed09a3ee2f30",
   "metadata": {},
   "outputs": [],
   "source": []
  },
  {
   "cell_type": "code",
   "execution_count": 29,
   "id": "bdb1b276-e4e9-406b-98c8-5c5f9480c2c5",
   "metadata": {},
   "outputs": [
    {
     "name": "stderr",
     "output_type": "stream",
     "text": [
      "/var/folders/86/h4mb42gn6j12gvzvy1rntg2h0000gn/T/ipykernel_24578/59276904.py:11: UserWarning: pandas only supports SQLAlchemy connectable (engine/connection) or database string URI or sqlite3 DBAPI2 connection. Other DBAPI2 objects are not tested. Please consider using SQLAlchemy.\n",
      "  df = pd.read_sql(query, con=connection)\n"
     ]
    },
    {
     "data": {
      "text/html": [
       "<div>\n",
       "<style scoped>\n",
       "    .dataframe tbody tr th:only-of-type {\n",
       "        vertical-align: middle;\n",
       "    }\n",
       "\n",
       "    .dataframe tbody tr th {\n",
       "        vertical-align: top;\n",
       "    }\n",
       "\n",
       "    .dataframe thead th {\n",
       "        text-align: right;\n",
       "    }\n",
       "</style>\n",
       "<table border=\"1\" class=\"dataframe\">\n",
       "  <thead>\n",
       "    <tr style=\"text-align: right;\">\n",
       "      <th></th>\n",
       "      <th>earliest_review</th>\n",
       "      <th>latest_review</th>\n",
       "    </tr>\n",
       "  </thead>\n",
       "  <tbody>\n",
       "    <tr>\n",
       "      <th>0</th>\n",
       "      <td>1800-01-01</td>\n",
       "      <td>2023-04-08</td>\n",
       "    </tr>\n",
       "  </tbody>\n",
       "</table>\n",
       "</div>"
      ],
      "text/plain": [
       "  earliest_review latest_review\n",
       "0      1800-01-01    2023-04-08"
      ]
     },
     "metadata": {},
     "output_type": "display_data"
    },
    {
     "name": "stdout",
     "output_type": "stream",
     "text": [
      "Execution Time: 0.41 seconds\n"
     ]
    }
   ],
   "source": [
    "# earliest and latest review dates for movies\n",
    "\n",
    "query = \"\"\"\n",
    "SELECT \n",
    "    MIN(review_date) AS earliest_review, \n",
    "    MAX(review_date) AS latest_review \n",
    "FROM movie_reviews;\n",
    "\"\"\"\n",
    "\n",
    "start_time = time.time()\n",
    "df = pd.read_sql(query, con=connection)\n",
    "end_time = time.time()\n",
    "\n",
    "execution_time = end_time - start_time\n",
    "display(df)\n",
    "print(f\"Execution Time: {execution_time:.2f} seconds\")\n",
    "\n",
    "\n"
   ]
  },
  {
   "cell_type": "code",
   "execution_count": 30,
   "id": "3f372970-c51d-40c0-b94f-e41dfa4e8bcf",
   "metadata": {},
   "outputs": [
    {
     "name": "stderr",
     "output_type": "stream",
     "text": [
      "/var/folders/86/h4mb42gn6j12gvzvy1rntg2h0000gn/T/ipykernel_24578/1125018487.py:12: UserWarning: pandas only supports SQLAlchemy connectable (engine/connection) or database string URI or sqlite3 DBAPI2 connection. Other DBAPI2 objects are not tested. Please consider using SQLAlchemy.\n",
      "  df = pd.read_sql(query, con=connection)\n"
     ]
    },
    {
     "data": {
      "text/html": [
       "<div>\n",
       "<style scoped>\n",
       "    .dataframe tbody tr th:only-of-type {\n",
       "        vertical-align: middle;\n",
       "    }\n",
       "\n",
       "    .dataframe tbody tr th {\n",
       "        vertical-align: top;\n",
       "    }\n",
       "\n",
       "    .dataframe thead th {\n",
       "        text-align: right;\n",
       "    }\n",
       "</style>\n",
       "<table border=\"1\" class=\"dataframe\">\n",
       "  <thead>\n",
       "    <tr style=\"text-align: right;\">\n",
       "      <th></th>\n",
       "      <th>movie_title</th>\n",
       "      <th>genre</th>\n",
       "      <th>review_count</th>\n",
       "    </tr>\n",
       "  </thead>\n",
       "  <tbody>\n",
       "    <tr>\n",
       "      <th>0</th>\n",
       "      <td>Unknown</td>\n",
       "      <td>Unknown</td>\n",
       "      <td>5277</td>\n",
       "    </tr>\n",
       "    <tr>\n",
       "      <th>1</th>\n",
       "      <td>Joker</td>\n",
       "      <td>Crime, Drama</td>\n",
       "      <td>597</td>\n",
       "    </tr>\n",
       "    <tr>\n",
       "      <th>2</th>\n",
       "      <td>Halloween</td>\n",
       "      <td>Holiday, Horror, Mystery &amp; thriller</td>\n",
       "      <td>589</td>\n",
       "    </tr>\n",
       "    <tr>\n",
       "      <th>3</th>\n",
       "      <td>Once Upon a Time... In Hollywood</td>\n",
       "      <td>Comedy, Drama</td>\n",
       "      <td>580</td>\n",
       "    </tr>\n",
       "    <tr>\n",
       "      <th>4</th>\n",
       "      <td>Avengers: Endgame</td>\n",
       "      <td>Action, Adventure, Fantasy, Sci-fi</td>\n",
       "      <td>555</td>\n",
       "    </tr>\n",
       "    <tr>\n",
       "      <th>5</th>\n",
       "      <td>Captain Marvel</td>\n",
       "      <td>Action, Adventure, Sci-fi, Fantasy</td>\n",
       "      <td>552</td>\n",
       "    </tr>\n",
       "    <tr>\n",
       "      <th>6</th>\n",
       "      <td>A Star Is Born</td>\n",
       "      <td>Romance, Drama, Music</td>\n",
       "      <td>534</td>\n",
       "    </tr>\n",
       "    <tr>\n",
       "      <th>7</th>\n",
       "      <td>Black Panther</td>\n",
       "      <td>Action, Adventure, Fantasy</td>\n",
       "      <td>531</td>\n",
       "    </tr>\n",
       "    <tr>\n",
       "      <th>8</th>\n",
       "      <td>Little Women</td>\n",
       "      <td>Drama</td>\n",
       "      <td>522</td>\n",
       "    </tr>\n",
       "    <tr>\n",
       "      <th>9</th>\n",
       "      <td>Star Wars: The Rise of Skywalker</td>\n",
       "      <td>Sci-fi, Adventure, Action, Fantasy</td>\n",
       "      <td>522</td>\n",
       "    </tr>\n",
       "  </tbody>\n",
       "</table>\n",
       "</div>"
      ],
      "text/plain": [
       "                        movie_title                                genre  \\\n",
       "0                           Unknown                              Unknown   \n",
       "1                             Joker                         Crime, Drama   \n",
       "2                         Halloween  Holiday, Horror, Mystery & thriller   \n",
       "3  Once Upon a Time... In Hollywood                        Comedy, Drama   \n",
       "4                 Avengers: Endgame   Action, Adventure, Fantasy, Sci-fi   \n",
       "5                    Captain Marvel   Action, Adventure, Sci-fi, Fantasy   \n",
       "6                    A Star Is Born                Romance, Drama, Music   \n",
       "7                     Black Panther           Action, Adventure, Fantasy   \n",
       "8                      Little Women                                Drama   \n",
       "9  Star Wars: The Rise of Skywalker   Sci-fi, Adventure, Action, Fantasy   \n",
       "\n",
       "   review_count  \n",
       "0          5277  \n",
       "1           597  \n",
       "2           589  \n",
       "3           580  \n",
       "4           555  \n",
       "5           552  \n",
       "6           534  \n",
       "7           531  \n",
       "8           522  \n",
       "9           522  "
      ]
     },
     "metadata": {},
     "output_type": "display_data"
    },
    {
     "name": "stdout",
     "output_type": "stream",
     "text": [
      "Execution Time: 1.68 seconds\n"
     ]
    }
   ],
   "source": [
    "# top 10 most reviewed movies\n",
    "\n",
    "query = \"\"\"\n",
    "SELECT movie_title, genre, COUNT(*) AS review_count \n",
    "FROM movie_reviews \n",
    "GROUP BY movie_title, genre\n",
    "ORDER BY review_count DESC \n",
    "LIMIT 10;\n",
    "\"\"\"\n",
    "\n",
    "start_time = time.time()\n",
    "df = pd.read_sql(query, con=connection)\n",
    "end_time = time.time()\n",
    "\n",
    "execution_time = end_time - start_time\n",
    "display(df)\n",
    "print(f\"Execution Time: {execution_time:.2f} seconds\")\n"
   ]
  },
  {
   "cell_type": "code",
   "execution_count": 39,
   "id": "9658ef50-9342-4be2-b119-b1bf89bba2c0",
   "metadata": {},
   "outputs": [
    {
     "name": "stderr",
     "output_type": "stream",
     "text": [
      "/var/folders/86/h4mb42gn6j12gvzvy1rntg2h0000gn/T/ipykernel_24578/3384194130.py:24: UserWarning: pandas only supports SQLAlchemy connectable (engine/connection) or database string URI or sqlite3 DBAPI2 connection. Other DBAPI2 objects are not tested. Please consider using SQLAlchemy.\n",
      "  df = pd.read_sql(query, con=connection)\n"
     ]
    },
    {
     "name": "stdout",
     "output_type": "stream",
     "text": [
      "Execution Time: 10.35 seconds\n"
     ]
    },
    {
     "data": {
      "text/html": [
       "<div>\n",
       "<style scoped>\n",
       "    .dataframe tbody tr th:only-of-type {\n",
       "        vertical-align: middle;\n",
       "    }\n",
       "\n",
       "    .dataframe tbody tr th {\n",
       "        vertical-align: top;\n",
       "    }\n",
       "\n",
       "    .dataframe thead th {\n",
       "        text-align: right;\n",
       "    }\n",
       "</style>\n",
       "<table border=\"1\" class=\"dataframe\">\n",
       "  <thead>\n",
       "    <tr style=\"text-align: right;\">\n",
       "      <th></th>\n",
       "      <th>movie_title</th>\n",
       "      <th>genre</th>\n",
       "      <th>year</th>\n",
       "      <th>avg_rating</th>\n",
       "    </tr>\n",
       "  </thead>\n",
       "  <tbody>\n",
       "    <tr>\n",
       "      <th>0</th>\n",
       "      <td>We Used to Know Each Other</td>\n",
       "      <td>Comedy, Drama</td>\n",
       "      <td>2019</td>\n",
       "      <td>406.75</td>\n",
       "    </tr>\n",
       "    <tr>\n",
       "      <th>1</th>\n",
       "      <td>L'Avventura</td>\n",
       "      <td>Drama</td>\n",
       "      <td>2021</td>\n",
       "      <td>100.00</td>\n",
       "    </tr>\n",
       "    <tr>\n",
       "      <th>2</th>\n",
       "      <td>Metropolis</td>\n",
       "      <td>Sci-fi, Anime</td>\n",
       "      <td>2001</td>\n",
       "      <td>100.00</td>\n",
       "    </tr>\n",
       "    <tr>\n",
       "      <th>3</th>\n",
       "      <td>Plaga Zombie: Mutant Zone</td>\n",
       "      <td>Unknown</td>\n",
       "      <td>2005</td>\n",
       "      <td>98.00</td>\n",
       "    </tr>\n",
       "    <tr>\n",
       "      <th>4</th>\n",
       "      <td>Sansho the Bailiff</td>\n",
       "      <td>History, Drama</td>\n",
       "      <td>2010</td>\n",
       "      <td>98.00</td>\n",
       "    </tr>\n",
       "    <tr>\n",
       "      <th>5</th>\n",
       "      <td>The Secret in Their Eyes</td>\n",
       "      <td>Crime, Drama, Mystery &amp; thriller</td>\n",
       "      <td>2021</td>\n",
       "      <td>96.00</td>\n",
       "    </tr>\n",
       "    <tr>\n",
       "      <th>6</th>\n",
       "      <td>Dr. Mabuse, the Gambler</td>\n",
       "      <td>Mystery &amp; thriller, Crime, Drama</td>\n",
       "      <td>2009</td>\n",
       "      <td>95.00</td>\n",
       "    </tr>\n",
       "    <tr>\n",
       "      <th>7</th>\n",
       "      <td>Full Metal Jacket</td>\n",
       "      <td>War, History, Drama</td>\n",
       "      <td>2009</td>\n",
       "      <td>94.00</td>\n",
       "    </tr>\n",
       "    <tr>\n",
       "      <th>8</th>\n",
       "      <td>Jalsaghar</td>\n",
       "      <td>Drama</td>\n",
       "      <td>2004</td>\n",
       "      <td>94.00</td>\n",
       "    </tr>\n",
       "    <tr>\n",
       "      <th>9</th>\n",
       "      <td>Reflections of Evil</td>\n",
       "      <td>Unknown</td>\n",
       "      <td>2005</td>\n",
       "      <td>94.00</td>\n",
       "    </tr>\n",
       "  </tbody>\n",
       "</table>\n",
       "</div>"
      ],
      "text/plain": [
       "                  movie_title                             genre  year  \\\n",
       "0  We Used to Know Each Other                     Comedy, Drama  2019   \n",
       "1                 L'Avventura                             Drama  2021   \n",
       "2                  Metropolis                     Sci-fi, Anime  2001   \n",
       "3   Plaga Zombie: Mutant Zone                           Unknown  2005   \n",
       "4          Sansho the Bailiff                    History, Drama  2010   \n",
       "5    The Secret in Their Eyes  Crime, Drama, Mystery & thriller  2021   \n",
       "6     Dr. Mabuse, the Gambler  Mystery & thriller, Crime, Drama  2009   \n",
       "7           Full Metal Jacket               War, History, Drama  2009   \n",
       "8                   Jalsaghar                             Drama  2004   \n",
       "9         Reflections of Evil                           Unknown  2005   \n",
       "\n",
       "   avg_rating  \n",
       "0      406.75  \n",
       "1      100.00  \n",
       "2      100.00  \n",
       "3       98.00  \n",
       "4       98.00  \n",
       "5       96.00  \n",
       "6       95.00  \n",
       "7       94.00  \n",
       "8       94.00  \n",
       "9       94.00  "
      ]
     },
     "metadata": {},
     "output_type": "display_data"
    }
   ],
   "source": [
    "import pymysql\n",
    "import pandas as pd\n",
    "import time\n",
    "\n",
    "\n",
    "connection = pymysql.connect(\n",
    "    host=\"localhost\",\n",
    "    user=\"root\",\n",
    "    password=\"bokang13\",\n",
    "    database=\"bigdata_project\"\n",
    ")\n",
    "\n",
    "\n",
    "query = \"\"\"\n",
    "SELECT movie_title, genre, YEAR(review_date) AS year, AVG(review_score) AS avg_rating\n",
    "FROM movie_reviews\n",
    "GROUP BY movie_title, year, genre\n",
    "ORDER BY avg_rating DESC\n",
    "LIMIT 10;\n",
    "\"\"\"\n",
    "start_time = time.time()\n",
    "df = pd.read_sql(query, con=connection)\n",
    "end_time = time.time()\n",
    "\n",
    "connection.close()\n",
    "\n",
    "print(f\"Execution Time: {end_time - start_time:.2f} seconds\")\n",
    "display(df)\n"
   ]
  },
  {
   "cell_type": "code",
   "execution_count": null,
   "id": "69163888-e206-44f2-bce7-a9d0506cbbd5",
   "metadata": {},
   "outputs": [],
   "source": []
  }
 ],
 "metadata": {
  "kernelspec": {
   "display_name": "Python 3 (ipykernel)",
   "language": "python",
   "name": "python3"
  },
  "language_info": {
   "codemirror_mode": {
    "name": "ipython",
    "version": 3
   },
   "file_extension": ".py",
   "mimetype": "text/x-python",
   "name": "python",
   "nbconvert_exporter": "python",
   "pygments_lexer": "ipython3",
   "version": "3.9.21"
  }
 },
 "nbformat": 4,
 "nbformat_minor": 5
}
